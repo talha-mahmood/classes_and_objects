{
  "nbformat": 4,
  "nbformat_minor": 0,
  "metadata": {
    "colab": {
      "provenance": []
    },
    "kernelspec": {
      "name": "python3",
      "display_name": "Python 3"
    },
    "language_info": {
      "name": "python"
    }
  },
  "cells": [
    {
      "cell_type": "markdown",
      "source": [
        "Exercise 1: Library Management System\n",
        "Scenario: You are tasked with creating a simple library management system.\n",
        "Question: Define two classes: Book and Library. The Book class should include attributes like\n",
        "title, author, and ISBN. The Library class should have methods to add books and display all\n",
        "books in the library. Create objects of the Book class and use them in the Library class.\n",
        "\n",
        "Exercise 2: Banking System\n",
        "Scenario: Design a banking system to manage customer accounts.\n",
        "Question: Create a BankAccount class with methods to deposit, withdraw, and check balance.\n",
        "Create a Customer class that can have multiple BankAccount objects. Write methods to display\n",
        "customer information along with their accounts.\n",
        "\n",
        "Exercise 3: E-commerce System\n",
        "Scenario: You are developing an e-commerce platform.\n",
        "Question: Create a Product class with attributes like name, price, and stock quantity. Create a\n",
        "ShoppingCart class that can hold multiple Product objects. Implement methods to add products\n",
        "to the cart and calculate the total price.\n",
        "\n",
        "Exercise 4: Vehicle Registration System\n",
        "Scenario: Develop a vehicle registration system.\n",
        "Question: Define a Vehicle class with attributes such as make, model, and year. Create a\n",
        "Registration class that links multiple Vehicle objects to a single owner. Write methods to\n",
        "display vehicle details and owner information.\n",
        "\n",
        "Exercise 5: School Management System\n",
        "Scenario: Create a school management system to manage students and courses.\n",
        "Question: Define a Student class with attributes for name and age. Create a Course class that\n",
        "can hold multiple Student objects. Write methods to enroll students in courses and display\n",
        "course rosters.\n",
        "\n",
        "Exercise 6: Zoo Management\n",
        "Scenario: You are designing a zoo management system.\n",
        "Question: Create an Animal class with attributes such as species and habitat. Create a Zoo class\n",
        "that can contain multiple Animal objects. Write methods to add animals and display the list of\n",
        "animals in the zoo.\n",
        "\n",
        "Exercise 7: Hotel Booking System\n",
        "Scenario: Develop a hotel booking system.\n",
        "Question: Create a Room class with attributes like room number, type, and availability status.\n",
        "Create a Hotel class that can manage multiple Room objects. Implement methods to book a room\n",
        "and check room availability.\n",
        "\n",
        "Exercise 8: Movie Rental System\n",
        "Scenario: Design a movie rental system.\n",
        "Question: Define a Movie class with attributes such as title, genre, and rental price. Create a\n",
        "RentalStore class that manages a collection of Movie objects. Write methods to rent movies\n",
        "and display available movies.\n",
        "\n",
        "Exercise 9: Fitness Tracker\n",
        "Scenario: You are creating a fitness tracker application.\n",
        "Question: Create a Workout class with attributes for type of exercise, duration, and calories\n",
        "burned. Create a User class that can have multiple Workout objects. Implement methods to log\n",
        "workouts and calculate total calories burned.\n",
        "\n",
        "Exercise 10: Task Management System\n",
        "Scenario: Develop a task management system.\n",
        "Question: Define a Task class with attributes such as title, description, and status. Create a\n",
        "Project class that can hold multiple Task objects. Write methods to add tasks, update their\n",
        "status, and display all tasks in the project."
      ],
      "metadata": {
        "id": "vclcpOifokaK"
      }
    },
    {
      "cell_type": "code",
      "source": [
        "class Book:\n",
        "    def __init__(self, title, author, isbn):\n",
        "        self.title = title\n",
        "        self.author = author\n",
        "        self.isbn = isbn\n",
        "\n",
        "    def __str__(self):\n",
        "        return f\"Title: {self.title}, Author: {self.author}, ISBN: {self.isbn}\"\n",
        "\n",
        "\n",
        "class Library:\n",
        "    def __init__(self):\n",
        "        self.books = []\n",
        "\n",
        "    def add_book(self, book):\n",
        "        self.books.append(book)\n",
        "\n",
        "    def display_books(self):\n",
        "        for book in self.books:\n",
        "            print(book)\n",
        "\n",
        "\n",
        "# Creating Book objects\n",
        "book1 = Book(\"1984\", \"George Orwell\", \"1234567890\")\n",
        "book2 = Book(\"To Kill a Mockingbird\", \"Harper Lee\", \"2345678901\")\n",
        "\n",
        "# Adding books to the Library\n",
        "library = Library()\n",
        "library.add_book(book1)\n",
        "library.add_book(book2)\n",
        "\n",
        "# Displaying all books in the library\n",
        "library.display_books()\n"
      ],
      "metadata": {
        "colab": {
          "base_uri": "https://localhost:8080/"
        },
        "id": "uDOSCCakolyh",
        "outputId": "eee11431-4479-457a-e535-ac7aa8516a6f"
      },
      "execution_count": 34,
      "outputs": [
        {
          "output_type": "stream",
          "name": "stdout",
          "text": [
            "Title: 1984, Author: George Orwell, ISBN: 1234567890\n",
            "Title: To Kill a Mockingbird, Author: Harper Lee, ISBN: 2345678901\n"
          ]
        }
      ]
    },
    {
      "cell_type": "code",
      "source": [
        "class BankAccount:\n",
        "    def __init__(self, account_number, balance=0):\n",
        "        self.account_number = account_number\n",
        "        self.balance = balance\n",
        "\n",
        "    def deposit(self, amount):\n",
        "        self.balance += amount\n",
        "\n",
        "    def withdraw(self, amount):\n",
        "        if amount > self.balance:\n",
        "            print(\"Insufficient funds\")\n",
        "        else:\n",
        "            self.balance -= amount\n",
        "\n",
        "    def check_balance(self):\n",
        "        return self.balance\n",
        "\n",
        "    def __str__(self):\n",
        "        return f\"Account Number: {self.account_number}, Balance: {self.balance}\"\n",
        "\n",
        "\n",
        "class Customer:\n",
        "    def __init__(self, name, customer_id):\n",
        "        self.name = name\n",
        "        self.customer_id = customer_id\n",
        "        self.accounts = []\n",
        "\n",
        "    def add_account(self, account):\n",
        "        self.accounts.append(account)\n",
        "\n",
        "    def display_customer_info(self):\n",
        "        print(f\"Customer Name: {self.name}, ID: {self.customer_id}\")\n",
        "        for account in self.accounts:\n",
        "            print(account)\n",
        "\n",
        "\n",
        "# Creating Customer and BankAccount objects\n",
        "customer = Customer(\"Alice\", \"C001\")\n",
        "account1 = BankAccount(\"A001\", 1000)\n",
        "account2 = BankAccount(\"A002\", 2000)\n",
        "\n",
        "# Adding accounts to the customer\n",
        "customer.add_account(account1)\n",
        "customer.add_account(account2)\n",
        "\n",
        "# Displaying customer information and their accounts\n",
        "customer.display_customer_info()\n"
      ],
      "metadata": {
        "colab": {
          "base_uri": "https://localhost:8080/"
        },
        "id": "rWEea5zfoqKk",
        "outputId": "a41f1ec4-36ec-490e-d16a-f9fe9b0d2c88"
      },
      "execution_count": 35,
      "outputs": [
        {
          "output_type": "stream",
          "name": "stdout",
          "text": [
            "Customer Name: Alice, ID: C001\n",
            "Account Number: A001, Balance: 1000\n",
            "Account Number: A002, Balance: 2000\n"
          ]
        }
      ]
    },
    {
      "cell_type": "code",
      "source": [
        "class Product:\n",
        "    def __init__(self, name, price, stock_quantity):\n",
        "        self.name = name\n",
        "        self.price = price\n",
        "        self.stock_quantity = stock_quantity\n",
        "\n",
        "    def __str__(self):\n",
        "        return f\"Product: {self.name}, Price: {self.price}, Stock: {self.stock_quantity}\"\n",
        "\n",
        "\n",
        "class ShoppingCart:\n",
        "    def __init__(self):\n",
        "        self.cart = []\n",
        "\n",
        "    def add_product(self, product):\n",
        "        self.cart.append(product)\n",
        "\n",
        "    def calculate_total(self):\n",
        "        total = sum(product.price for product in self.cart)\n",
        "        return total\n",
        "\n",
        "    def display_cart(self):\n",
        "        for product in self.cart:\n",
        "            print(product)\n",
        "\n",
        "\n",
        "# Creating Product objects\n",
        "product1 = Product(\"Laptop\", 1000, 10)\n",
        "product2 = Product(\"Phone\", 500, 20)\n",
        "\n",
        "# Adding products to the shopping cart\n",
        "cart = ShoppingCart()\n",
        "cart.add_product(product1)\n",
        "cart.add_product(product2)\n",
        "\n",
        "# Displaying cart items and calculating the total price\n",
        "cart.display_cart()\n",
        "print(\"Total Price:\", cart.calculate_total())\n"
      ],
      "metadata": {
        "colab": {
          "base_uri": "https://localhost:8080/"
        },
        "id": "uzbqi0l2o-LJ",
        "outputId": "423e9e89-9313-43e8-ea09-3305c6d846ed"
      },
      "execution_count": 37,
      "outputs": [
        {
          "output_type": "stream",
          "name": "stdout",
          "text": [
            "Product: Laptop, Price: 1000, Stock: 10\n",
            "Product: Phone, Price: 500, Stock: 20\n",
            "Total Price: 1500\n"
          ]
        }
      ]
    },
    {
      "cell_type": "code",
      "source": [
        "class Vehicle:\n",
        "    def __init__(self, make, model, year):\n",
        "        self.make = make\n",
        "        self.model = model\n",
        "        self.year = year\n",
        "\n",
        "    def __str__(self):\n",
        "        return f\"{self.year} {self.make} {self.model}\"\n",
        "\n",
        "\n",
        "class Registration:\n",
        "    def __init__(self, owner):\n",
        "        self.owner = owner\n",
        "        self.vehicles = []\n",
        "\n",
        "    def add_vehicle(self, vehicle):\n",
        "        self.vehicles.append(vehicle)\n",
        "\n",
        "    def display_registration_info(self):\n",
        "        print(f\"Owner: {self.owner}\")\n",
        "        for vehicle in self.vehicles:\n",
        "            print(vehicle)\n",
        "\n",
        "\n",
        "# Creating Vehicle objects\n",
        "vehicle1 = Vehicle(\"Toyota\", \"Camry\", 2020)\n",
        "vehicle2 = Vehicle(\"Honda\", \"Civic\", 2019)\n",
        "\n",
        "# Registering vehicles to an owner\n",
        "registration = Registration(\"John Doe\")\n",
        "registration.add_vehicle(vehicle1)\n",
        "registration.add_vehicle(vehicle2)\n",
        "\n",
        "# Displaying registration information\n",
        "registration.display_registration_info()\n"
      ],
      "metadata": {
        "colab": {
          "base_uri": "https://localhost:8080/"
        },
        "id": "DtOZdVoapCWI",
        "outputId": "040f3e95-1b17-40e6-cec4-7b1c05b2abec"
      },
      "execution_count": 38,
      "outputs": [
        {
          "output_type": "stream",
          "name": "stdout",
          "text": [
            "Owner: John Doe\n",
            "2020 Toyota Camry\n",
            "2019 Honda Civic\n"
          ]
        }
      ]
    },
    {
      "cell_type": "code",
      "source": [
        "class Student:\n",
        "    def __init__(self, name, age):\n",
        "        self.name = name\n",
        "        self.age = age\n",
        "\n",
        "    def __str__(self):\n",
        "        return f\"Student Name: {self.name}, Age: {self.age}\"\n",
        "\n",
        "\n",
        "class Course:\n",
        "    def __init__(self, course_name):\n",
        "        self.course_name = course_name\n",
        "        self.students = []\n",
        "\n",
        "    def enroll_student(self, student):\n",
        "        self.students.append(student)\n",
        "\n",
        "    def display_course_roster(self):\n",
        "        print(f\"Course: {self.course_name}\")\n",
        "        for student in self.students:\n",
        "            print(student)\n",
        "\n",
        "\n",
        "# Creating Student objects\n",
        "student1 = Student(\"Alice\", 20)\n",
        "student2 = Student(\"Bob\", 22)\n",
        "\n",
        "# Enrolling students in a course\n",
        "course = Course(\"Computer Science\")\n",
        "course.enroll_student(student1)\n",
        "course.enroll_student(student2)\n",
        "\n",
        "# Displaying course roster\n",
        "course.display_course_roster()\n"
      ],
      "metadata": {
        "colab": {
          "base_uri": "https://localhost:8080/"
        },
        "id": "eNz3NTXYo8X3",
        "outputId": "a84c3878-62fc-4a02-a71a-cfdf916fe131"
      },
      "execution_count": 39,
      "outputs": [
        {
          "output_type": "stream",
          "name": "stdout",
          "text": [
            "Course: Computer Science\n",
            "Student Name: Alice, Age: 20\n",
            "Student Name: Bob, Age: 22\n"
          ]
        }
      ]
    },
    {
      "cell_type": "code",
      "source": [],
      "metadata": {
        "id": "nzs8RVyopSRK"
      },
      "execution_count": null,
      "outputs": []
    }
  ]
}